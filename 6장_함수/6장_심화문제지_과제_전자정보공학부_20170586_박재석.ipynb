{
 "cells": [
  {
   "cell_type": "markdown",
   "id": "58840523",
   "metadata": {},
   "source": [
    "### 6장_심화문제\n",
    "### 전자정보공학부\n",
    "### 20170586 박재석"
   ]
  },
  {
   "cell_type": "code",
   "execution_count": 1,
   "id": "639f967a",
   "metadata": {},
   "outputs": [
    {
     "name": "stdout",
     "output_type": "stream",
     "text": [
      "3 수를 입력하시오 : 34 66 20\n",
      "가장 큰 수 : 66\n",
      "가장 작은 수 : 20\n"
     ]
    }
   ],
   "source": [
    "# 6.3\n",
    "\n",
    "def max(n1, n2, n3):\n",
    "    if n1 > n2 and n1 > n3:\n",
    "        return n1\n",
    "    elif n2 > n3:\n",
    "        return n2\n",
    "    else:\n",
    "        return n3\n",
    "    \n",
    "def min(n1, n2, n3):\n",
    "    if n1 < n2 and n1 < n3:\n",
    "        return n1\n",
    "    elif n2 < n3:\n",
    "        return n2\n",
    "    else:\n",
    "        return n3\n",
    "    \n",
    "def max_and_min(n1, n2, n3):\n",
    "    return max(n1, n2, n3), min(n1, n2, n3)\n",
    "\n",
    "n1, n2, n3 = map(int, input('3 수를 입력하시오 : ').split())\n",
    "maximum, minimum = max_and_min(n1, n2, n3)\n",
    "print(f'가장 큰 수 : {maximum}')\n",
    "print(f'가장 작은 수 : {minimum}')"
   ]
  },
  {
   "cell_type": "code",
   "execution_count": 2,
   "id": "d83d8a22",
   "metadata": {},
   "outputs": [
    {
     "name": "stdout",
     "output_type": "stream",
     "text": [
      "섭씨 0도는 화씨 32.0도 입니다.\n",
      "섭씨 10도는 화씨 50.0도 입니다.\n",
      "섭씨 20도는 화씨 68.0도 입니다.\n",
      "섭씨 30도는 화씨 86.0도 입니다.\n",
      "섭씨 40도는 화씨 104.0도 입니다.\n",
      "섭씨 50도는 화씨 122.0도 입니다.\n"
     ]
    }
   ],
   "source": [
    "# 6.5\n",
    "\n",
    "def cel2fah(celsius):\n",
    "    fahrenheit = (9/5) * celsius + 32\n",
    "    return fahrenheit\n",
    "\n",
    "for celsius in range(0, 51, 10):\n",
    "    print(f'섭씨 {celsius}도는 화씨 {cel2fah(celsius)}도 입니다.')"
   ]
  },
  {
   "cell_type": "code",
   "execution_count": 3,
   "id": "60668454",
   "metadata": {},
   "outputs": [
    {
     "name": "stdout",
     "output_type": "stream",
     "text": [
      "소수 검사를 할 정수를 입력하시오 : 9677\n"
     ]
    },
    {
     "data": {
      "text/plain": [
       "True"
      ]
     },
     "execution_count": 3,
     "metadata": {},
     "output_type": "execute_result"
    }
   ],
   "source": [
    "# 6.6\n",
    "\n",
    "def is_prime(n):\n",
    "    for i in (2, n, 1):\n",
    "        if n % i != 0:\n",
    "            return True\n",
    "        else:\n",
    "            return False\n",
    "        \n",
    "n = int(input('소수 검사를 할 정수를 입력하시오 : '))\n",
    "is_prime(n)"
   ]
  }
 ],
 "metadata": {
  "kernelspec": {
   "display_name": "Python 3",
   "language": "python",
   "name": "python3"
  },
  "language_info": {
   "codemirror_mode": {
    "name": "ipython",
    "version": 3
   },
   "file_extension": ".py",
   "mimetype": "text/x-python",
   "name": "python",
   "nbconvert_exporter": "python",
   "pygments_lexer": "ipython3",
   "version": "3.8.8"
  }
 },
 "nbformat": 4,
 "nbformat_minor": 5
}
