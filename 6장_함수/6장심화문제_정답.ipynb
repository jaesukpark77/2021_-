{
 "cells": [
  {
   "cell_type": "code",
   "execution_count": 1,
   "metadata": {},
   "outputs": [
    {
     "name": "stdout",
     "output_type": "stream",
     "text": [
      "3 수를 입력하시오 : 34 66 20\n",
      "가장 큰 수 : 66\n",
      "가장 작은 수 : 20\n"
     ]
    }
   ],
   "source": [
    "#6.3\n",
    "\n",
    "def max3(n1, n2, n3):\n",
    "    if n1 > n2 and n1 > n3:\n",
    "        return n1\n",
    "    elif n2 > n3:\n",
    "        return n2\n",
    "    else:\n",
    "        return n3\n",
    "\n",
    "def min3(n1, n2, n3):\n",
    "    if n1 < n2 and n1 < n3:\n",
    "        return n1\n",
    "    elif n2 < n3:\n",
    "        return n2\n",
    "    else:\n",
    "        return n3\n",
    "\n",
    "n1, n2, n3 = map(int, input('3 수를 입력하시오 : ').split())\n",
    "print('가장 큰 수 :', max3(n1, n2, n3))\n",
    "print('가장 작은 수 :', min3(n1, n2, n3))"
   ]
  },
  {
   "cell_type": "code",
   "execution_count": 2,
   "metadata": {},
   "outputs": [
    {
     "name": "stdout",
     "output_type": "stream",
     "text": [
      "섭씨  0 도는 화씨  32.0 도 입니다.\n",
      "섭씨  10 도는 화씨  50.0 도 입니다.\n",
      "섭씨  20 도는 화씨  68.0 도 입니다.\n",
      "섭씨  30 도는 화씨  86.0 도 입니다.\n",
      "섭씨  40 도는 화씨  104.0 도 입니다.\n",
      "섭씨  50 도는 화씨  122.0 도 입니다.\n"
     ]
    }
   ],
   "source": [
    "#6.5\n",
    "\n",
    "def cel2fah(cel):\n",
    "    return (9/5) * cel + 32\n",
    "\n",
    "for i in range(0, 51, 10):\n",
    "    print('섭씨 ', i, '도는 화씨 ', cel2fah(i), '도 입니다.')"
   ]
  },
  {
   "cell_type": "code",
   "execution_count": 3,
   "metadata": {},
   "outputs": [
    {
     "name": "stdout",
     "output_type": "stream",
     "text": [
      "소수 검사를 할 정수를 입력하시오: 12\n",
      "False\n"
     ]
    }
   ],
   "source": [
    "#6.6\n",
    "def is_prime(number):\n",
    "    for i in range(2, number):\n",
    "        if number % i == 0:\n",
    "            return False\n",
    "    return True\n",
    "\n",
    "number = int(input(\"소수 검사를 할 정수를 입력하시오: \"))\n",
    "print(is_prime(number))"
   ]
  }
 ],
 "metadata": {
  "kernelspec": {
   "display_name": "Python 3",
   "language": "python",
   "name": "python3"
  },
  "language_info": {
   "codemirror_mode": {
    "name": "ipython",
    "version": 3
   },
   "file_extension": ".py",
   "mimetype": "text/x-python",
   "name": "python",
   "nbconvert_exporter": "python",
   "pygments_lexer": "ipython3",
   "version": "3.8.5"
  }
 },
 "nbformat": 4,
 "nbformat_minor": 4
}
