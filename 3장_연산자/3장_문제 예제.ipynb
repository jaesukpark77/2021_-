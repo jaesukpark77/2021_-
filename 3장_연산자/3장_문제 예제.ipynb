{
 "cells": [
  {
   "cell_type": "code",
   "execution_count": 1,
   "id": "bac71498",
   "metadata": {},
   "outputs": [
    {
     "name": "stdout",
     "output_type": "stream",
     "text": [
      "여성이면 1, 남성이면 0을 입력하세요: 0\n",
      "당신의 키는 얼마입니까?181\n",
      "당신의 허리 둘레는 얼마입니까?94\n",
      "당신의 RFM은 25.48936170212766\n"
     ]
    }
   ],
   "source": [
    "#도전 3.2\n",
    "\n",
    "gender = int(input('여성이면 1, 남성이면 0을 입력하세요: '))\n",
    "height = int(input('당신의 키는 얼마입니까?'))\n",
    "cir = int(input('당신의 허리 둘레는 얼마입니까?'))\n",
    "rfm = 64 - (20 * (height / cir)) + 12*gender\n",
    "print('당신의 RFM은', rfm)"
   ]
  },
  {
   "cell_type": "code",
   "execution_count": 2,
   "id": "dbdee784",
   "metadata": {},
   "outputs": [
    {
     "name": "stdout",
     "output_type": "stream",
     "text": [
      "투입한 돈: 5000\n",
      "물건값: 2600\n",
      "거스름돈 :  2400\n",
      "500원 동전 갯수 :  4\n",
      "100원 동전 갯수 :  4\n"
     ]
    }
   ],
   "source": [
    "#LAB 3-4\n",
    "\n",
    "money = int(input('투입한 돈: '))\n",
    "price = int(input('물건값: '))\n",
    "\n",
    "change = money - price\n",
    "print('거스름돈 : ', change)\n",
    "\n",
    "coin500 = change // 500\n",
    "change = change % 500\n",
    "\n",
    "coin100 = change // 100\n",
    "\n",
    "print('500원 동전 갯수 : ', coin500)\n",
    "print('100원 동전 갯수 : ', coin100)"
   ]
  },
  {
   "cell_type": "code",
   "execution_count": null,
   "id": "0ee370ec",
   "metadata": {},
   "outputs": [],
   "source": []
  }
 ],
 "metadata": {
  "kernelspec": {
   "display_name": "Python 3",
   "language": "python",
   "name": "python3"
  },
  "language_info": {
   "codemirror_mode": {
    "name": "ipython",
    "version": 3
   },
   "file_extension": ".py",
   "mimetype": "text/x-python",
   "name": "python",
   "nbconvert_exporter": "python",
   "pygments_lexer": "ipython3",
   "version": "3.8.8"
  }
 },
 "nbformat": 4,
 "nbformat_minor": 5
}
