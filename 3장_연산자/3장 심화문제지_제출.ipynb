{
 "cells": [
  {
   "cell_type": "markdown",
   "id": "8d059553",
   "metadata": {},
   "source": [
    "# 3장 심화문제지\n",
    "\n",
    "### 학번 : 20170586\n",
    "### 이름 : 박재석"
   ]
  },
  {
   "cell_type": "code",
   "execution_count": 1,
   "id": "72adc0fe",
   "metadata": {},
   "outputs": [
    {
     "name": "stdout",
     "output_type": "stream",
     "text": [
      "a =  2 n=2 a**n =  4\n",
      "a =  3 n=2 a**n =  9\n",
      "a =  4 n=2 a**n =  16\n",
      "a =  5 n=2 a**n =  25\n",
      "a =  6 n=2 a**n =  36\n"
     ]
    }
   ],
   "source": [
    "#3.1\n",
    "\n",
    "n = 2\n",
    "for i in range(2,7,1):\n",
    "    print('a = ', i, 'n=2', 'a**n = ', i**n)\n",
    "    i += 1"
   ]
  },
  {
   "cell_type": "code",
   "execution_count": 2,
   "id": "bb3695c2",
   "metadata": {},
   "outputs": [
    {
     "name": "stdout",
     "output_type": "stream",
     "text": [
      "2의 제곱근 = 1.4142135623730951\n",
      "3의 제곱근 = 1.7320508075688772\n",
      "4의 제곱근 = 2.0\n",
      "5의 제곱근 = 2.23606797749979\n",
      "6의 제곱근 = 2.449489742783178\n",
      "7의 제곱근 = 2.6457513110645907\n",
      "8의 제곱근 = 2.8284271247461903\n",
      "9의 제곱근 = 3.0\n",
      "10의 제곱근 = 3.1622776601683795\n"
     ]
    }
   ],
   "source": [
    "#3.2\n",
    "\n",
    "import math\n",
    "\n",
    "print('2의 제곱근 =', math.sqrt(2))\n",
    "print('3의 제곱근 =', math.sqrt(3))\n",
    "print('4의 제곱근 =', math.sqrt(4))\n",
    "print('5의 제곱근 =', math.sqrt(5))\n",
    "print('6의 제곱근 =', math.sqrt(6))\n",
    "print('7의 제곱근 =', math.sqrt(7))\n",
    "print('8의 제곱근 =', math.sqrt(8))\n",
    "print('9의 제곱근 =', math.sqrt(9))\n",
    "print('10의 제곱근 =', math.sqrt(10))"
   ]
  },
  {
   "cell_type": "code",
   "execution_count": 3,
   "id": "d42c277b",
   "metadata": {},
   "outputs": [
    {
     "name": "stdout",
     "output_type": "stream",
     "text": [
      "2\n",
      "4\n",
      "8\n",
      "16\n",
      "32\n",
      "64\n",
      "128\n",
      "256\n",
      "512\n",
      "1024\n",
      "2048\n"
     ]
    }
   ],
   "source": [
    "#3.3\n",
    "\n",
    "a = 2\n",
    "for i in range(0, 11):\n",
    "    print(a << i)\n",
    "    i += 1"
   ]
  },
  {
   "cell_type": "code",
   "execution_count": 4,
   "id": "d3937b6f",
   "metadata": {},
   "outputs": [
    {
     "name": "stdout",
     "output_type": "stream",
     "text": [
      "정수를 입력하세요 : 120\n",
      "입력된 정수는 0에서 100의 범위 안에 있는 짝수인가요? False\n"
     ]
    }
   ],
   "source": [
    "#3.4\n",
    "\n",
    "num = int(input('정수를 입력하세요 : '))\n",
    "\n",
    "if(num > 100):\n",
    "    print('입력된 정수는 0에서 100의 범위 안에 있는 짝수인가요? False')\n",
    "else:\n",
    "    if(num % 2 == 0):\n",
    "        print('입력된 정수는 0에서 100의 범위 안에 있는 짝수인가요? True')\n",
    "    else:\n",
    "        print('입력된 정수는 0에서 100의 범위 안에 있는 짝수인가요? False')"
   ]
  },
  {
   "cell_type": "code",
   "execution_count": 5,
   "id": "75ae5b0a",
   "metadata": {},
   "outputs": [
    {
     "name": "stdout",
     "output_type": "stream",
     "text": [
      "0b101 & 0b110 = 0b100\n",
      "0b101 | 0b110 = 0b111\n",
      "0b101 ^ 0b110 = 0b11\n"
     ]
    }
   ],
   "source": [
    "#3.5\n",
    "\n",
    "print('0b101 & 0b110 =', bin(5 & 6))\n",
    "print('0b101 | 0b110 =', bin(5 | 6))\n",
    "print('0b101 ^ 0b110 =', bin(5 ^ 6))"
   ]
  },
  {
   "cell_type": "code",
   "execution_count": 6,
   "id": "0df040b3",
   "metadata": {},
   "outputs": [
    {
     "name": "stdout",
     "output_type": "stream",
     "text": [
      "정수 a를 입력하시오 : 202\n",
      "정수 b를 입력하시오 : 50\n",
      "a / b의 몫 :  4\n",
      "a / b의 나머지 :  2\n"
     ]
    }
   ],
   "source": [
    "#3.6\n",
    "\n",
    "a = int(input('정수 a를 입력하시오 : '))\n",
    "b = int(input('정수 b를 입력하시오 : '))\n",
    "\n",
    "mok = a // b\n",
    "nam = a % b\n",
    "\n",
    "print('a / b의 몫 : ', mok)\n",
    "print('a / b의 나머지 : ', nam)"
   ]
  },
  {
   "cell_type": "code",
   "execution_count": 7,
   "id": "5cf1f829",
   "metadata": {},
   "outputs": [
    {
     "name": "stdout",
     "output_type": "stream",
     "text": [
      "세 자리 정수를 입력하시오 : 349\n",
      "백의 자리 :  3\n",
      "십의 자리 :  4\n",
      "일의 자리 :  9\n"
     ]
    }
   ],
   "source": [
    "#3.7\n",
    "\n",
    "num = int(input('세 자리 정수를 입력하시오 : '))\n",
    "\n",
    "hun = num // 100\n",
    "nam = num - (hun * 100)\n",
    "ten = nam // 10\n",
    "nam = nam - (ten * 10)\n",
    "\n",
    "print('백의 자리 : ', hun)\n",
    "print('십의 자리 : ', ten)\n",
    "print('일의 자리 : ', nam)"
   ]
  },
  {
   "cell_type": "code",
   "execution_count": 8,
   "id": "35d0310b",
   "metadata": {},
   "outputs": [
    {
     "name": "stdout",
     "output_type": "stream",
     "text": [
      "세 자리 정수를 입력하시오 : 349\n",
      "9\n",
      "4\n",
      "3\n"
     ]
    }
   ],
   "source": [
    "#3.8 (1)\n",
    "\n",
    "num = int(input('세 자리 정수를 입력하시오 : '))\n",
    "\n",
    "hun = num // 100\n",
    "nam = num - (hun * 100)\n",
    "ten = nam // 10\n",
    "nam = nam - (ten * 10)\n",
    "\n",
    "print(nam)\n",
    "print(ten)\n",
    "print(hun)"
   ]
  },
  {
   "cell_type": "code",
   "execution_count": 9,
   "id": "b228a604",
   "metadata": {},
   "outputs": [
    {
     "name": "stdout",
     "output_type": "stream",
     "text": [
      "세 자리 정수를 입력하시오 :349\n",
      "943\n"
     ]
    }
   ],
   "source": [
    "#3.8 (2)\n",
    "\n",
    "num = list(map(int,str(input('세 자리 정수를 입력하시오 :'))))\n",
    "num.reverse()\n",
    "res = \"\"\n",
    "\n",
    "for i in num:\n",
    "    res += str(i)\n",
    "print(res)"
   ]
  }
 ],
 "metadata": {
  "kernelspec": {
   "display_name": "Python 3",
   "language": "python",
   "name": "python3"
  },
  "language_info": {
   "codemirror_mode": {
    "name": "ipython",
    "version": 3
   },
   "file_extension": ".py",
   "mimetype": "text/x-python",
   "name": "python",
   "nbconvert_exporter": "python",
   "pygments_lexer": "ipython3",
   "version": "3.8.8"
  }
 },
 "nbformat": 4,
 "nbformat_minor": 5
}
