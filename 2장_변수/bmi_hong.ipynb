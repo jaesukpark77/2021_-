{
 "cells": [
  {
   "cell_type": "code",
   "execution_count": 1,
   "id": "ed41c451",
   "metadata": {},
   "outputs": [
    {
     "data": {
      "text/plain": [
       "26.636019469983776"
      ]
     },
     "execution_count": 1,
     "metadata": {},
     "output_type": "execute_result"
    }
   ],
   "source": [
    "height=1.72\n",
    "weight=78.8\n",
    "bmi=weight/height**2\n",
    "bmi"
   ]
  },
  {
   "cell_type": "code",
   "execution_count": 2,
   "id": "bbee5276",
   "metadata": {},
   "outputs": [
    {
     "data": {
      "text/plain": [
       "23.69146005509642"
      ]
     },
     "execution_count": 2,
     "metadata": {},
     "output_type": "execute_result"
    }
   ],
   "source": [
    "height=1.65\n",
    "weight=64.5\n",
    "bmi=weight/height**2\n",
    "bmi"
   ]
  },
  {
   "cell_type": "code",
   "execution_count": null,
   "id": "fec8fa62",
   "metadata": {},
   "outputs": [],
   "source": []
  }
 ],
 "metadata": {
  "kernelspec": {
   "display_name": "Python 3",
   "language": "python",
   "name": "python3"
  },
  "language_info": {
   "codemirror_mode": {
    "name": "ipython",
    "version": 3
   },
   "file_extension": ".py",
   "mimetype": "text/x-python",
   "name": "python",
   "nbconvert_exporter": "python",
   "pygments_lexer": "ipython3",
   "version": "3.8.8"
  }
 },
 "nbformat": 4,
 "nbformat_minor": 5
}
