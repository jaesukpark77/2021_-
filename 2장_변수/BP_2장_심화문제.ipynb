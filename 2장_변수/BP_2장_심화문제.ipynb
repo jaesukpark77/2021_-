{
 "cells": [
  {
   "cell_type": "code",
   "execution_count": 6,
   "metadata": {},
   "outputs": [
    {
     "name": "stdout",
     "output_type": "stream",
     "text": [
      "면적: 1256.0 둘레: 125.60000000000001\n"
     ]
    }
   ],
   "source": [
    "#도전문제 2.2\n",
    "radius = 20\n",
    "area = radius * radius * 3.14\n",
    "circu = 2 * 3.14 * radius\n",
    "print('면적:',area,'둘레:',circu)"
   ]
  },
  {
   "cell_type": "code",
   "execution_count": 10,
   "metadata": {},
   "outputs": [
    {
     "name": "stdout",
     "output_type": "stream",
     "text": [
      "원금: 10000000\n",
      "이율: 0.03\n",
      "기간: 5\n",
      "수령금액:  11592740.743\n"
     ]
    }
   ],
   "source": [
    "#2-4 복리 이자 계산하기\n",
    "money = int(input('원금: '))\n",
    "rate = float(input('이율: '))\n",
    "month = int(input('기간: '))\n",
    "total_money = money*(1.0+rate)**month\n",
    "print('수령금액: ',total_money)"
   ]
  },
  {
   "cell_type": "code",
   "execution_count": 25,
   "metadata": {},
   "outputs": [
    {
     "name": "stdout",
     "output_type": "stream",
     "text": [
      "이름 입력300\n",
      "300\n"
     ]
    },
    {
     "data": {
      "text/plain": [
       "str"
      ]
     },
     "execution_count": 25,
     "metadata": {},
     "output_type": "execute_result"
    }
   ],
   "source": [
    "name = input(\"이름 입력\")\n",
    "print(name)\n",
    "type(name)"
   ]
  },
  {
   "cell_type": "code",
   "execution_count": 31,
   "metadata": {},
   "outputs": [
    {
     "name": "stdout",
     "output_type": "stream",
     "text": [
      "신장 입력:1.65\n",
      "체중 입력:65\n",
      "BMI: 23.875114784205696\n"
     ]
    }
   ],
   "source": [
    "#도전과제 2.6 (1)\n",
    "height = float(input(\"신장 입력:\"))\n",
    "weight = float(input(\"체중 입력:\"))\n",
    "bmi = weight/height**2\n",
    "print('BMI:',bmi)"
   ]
  },
  {
   "cell_type": "code",
   "execution_count": 34,
   "metadata": {},
   "outputs": [
    {
     "name": "stdout",
     "output_type": "stream",
     "text": [
      "첫 정수 입력:5\n",
      "두 번째 정수 입력:6\n",
      "5 와 6 의 합은 11 평균은 5.5 이다.\n"
     ]
    }
   ],
   "source": [
    "#도전과제 2.6(2)\n",
    "x = int(input('첫 정수 입력:'))\n",
    "y = int(input('두 번째 정수 입력:'))\n",
    "sum = x + y\n",
    "avg = sum / 2\n",
    "print(x, '와', y, '의 합은', sum, '평균은', avg, '이다.')"
   ]
  },
  {
   "cell_type": "code",
   "execution_count": 35,
   "metadata": {},
   "outputs": [
    {
     "name": "stdout",
     "output_type": "stream",
     "text": [
      "첫 정수 입력:10\n",
      "두 번째 정수 입력:5\n",
      "세 번째 정수 입력:8\n",
      "10 와 5 와 8 의 합은 23 평균은 7.666666666666667 이다.\n"
     ]
    }
   ],
   "source": [
    "#도전과제 2.6(3)\n",
    "x = int(input('첫 정수 입력:'))\n",
    "y = int(input('두 번째 정수 입력:'))\n",
    "z = int(input('세 번째 정수 입력:'))\n",
    "sum = x + y + z\n",
    "avg = sum / 3\n",
    "print(x, '와', y, '와', z, '의 합은', sum, '평균은', avg, '이다.')"
   ]
  },
  {
   "cell_type": "markdown",
   "metadata": {},
   "source": [
    "심화문제 2.4.1\n",
    "\n",
    "width와  height라는 변수에 각각 40,20 값을 할당한 후 이 두 변수를 이용하여 곱셈 연산자를 적용한 후 삼각형의 면적을 구하는 프로그램을 작성하세요"
   ]
  },
  {
   "cell_type": "code",
   "execution_count": 1,
   "metadata": {},
   "outputs": [
    {
     "data": {
      "text/plain": [
       "400.0"
      ]
     },
     "execution_count": 1,
     "metadata": {},
     "output_type": "execute_result"
    }
   ],
   "source": [
    "width = 40\n",
    "height = 20\n",
    "area = width * height * 0.5\n",
    "area"
   ]
  },
  {
   "cell_type": "markdown",
   "metadata": {},
   "source": [
    "심화문제 2.4.3\n",
    "\n",
    "width와  height라는 변수에 각각 40,20 값을 할당한 후 이 두 변수를 이용하여 곱셈 연산자를 적용한 후 삼각형의 면적을 구하는 프로그램을 작성하세요. 단, width, height 변수를 동시에 할당문을 사용하여 40,20 값을 적용하세요."
   ]
  },
  {
   "cell_type": "code",
   "execution_count": 2,
   "metadata": {},
   "outputs": [
    {
     "data": {
      "text/plain": [
       "400.0"
      ]
     },
     "execution_count": 2,
     "metadata": {},
     "output_type": "execute_result"
    }
   ],
   "source": [
    "width, height = 40, 20\n",
    "area = width * height * 0.5\n",
    "area"
   ]
  },
  {
   "cell_type": "markdown",
   "metadata": {},
   "source": [
    "심화문제 2.5\n",
    "\n",
    "정사각형의 면적을 구하기 위하여 사용자로부터 밑변의 길이를 정수로 입력받아서 출력하세요. \n",
    "형식 :\n",
    "정사각형의 밑변을 입력하세요. : 40\n",
    "정사각형의 면적은 : 1600\n"
   ]
  },
  {
   "cell_type": "code",
   "execution_count": 7,
   "metadata": {},
   "outputs": [
    {
     "name": "stdout",
     "output_type": "stream",
     "text": [
      "정사각형의 밑변을 입력하세요: 40\n",
      "정사각형의 면적은 :  1600\n"
     ]
    }
   ],
   "source": [
    "width = int(input('정사각형의 밑변을 입력하세요: '))\n",
    "area = width ** 2\n",
    "print('정사각형의 면적은 : ', area)"
   ]
  },
  {
   "cell_type": "markdown",
   "metadata": {},
   "source": [
    "심화문제 2.8\n",
    "\n",
    "섭씨온도를 화씨온도로 변환하는 식은 다음과 같다.\n",
    "fahrenheit=(9/5)*celsius+32\n",
    "이 식을 바탕으로 섭씨온도를 0도에서 50도까지 10도 단위로 증가하면서 이에 해당하는 화씨온도를 다음고 같이 출력하는 프로그램을 작성하세요.\n",
    "섭씨   화씨\n",
    "0       32.0\n",
    "10      50.0\n",
    "20      68.0\n",
    "30      86.0\n",
    "40     104.0\n",
    "50     122.0"
   ]
  },
  {
   "cell_type": "code",
   "execution_count": 17,
   "metadata": {},
   "outputs": [
    {
     "name": "stdout",
     "output_type": "stream",
     "text": [
      "섭씨: 0 화씨: 32.0\n",
      "섭씨: 10 화씨: 50.0\n",
      "섭씨: 20 화씨: 68.0\n",
      "섭씨: 30 화씨: 86.0\n",
      "섭씨: 40 화씨: 104.0\n",
      "섭씨: 50 화씨: 122.0\n"
     ]
    }
   ],
   "source": [
    "def temp(celsius):\n",
    "    fahrenheit=(9/5)*celsius+32\n",
    "    return fahrenheit\n",
    "\n",
    "print('섭씨: 0','화씨:', temp(0))\n",
    "print('섭씨: 10','화씨:', temp(10))\n",
    "print('섭씨: 20','화씨:', temp(20))\n",
    "print('섭씨: 30','화씨:', temp(30))\n",
    "print('섭씨: 40','화씨:', temp(40))\n",
    "print('섭씨: 50','화씨:', temp(50))"
   ]
  },
  {
   "cell_type": "markdown",
   "metadata": {},
   "source": [
    "심화문제 2.9\n",
    "\n",
    "앞서 다룬 섭씨온도를 화씨온도로 변환하는 식을 바탕으로 사용자로부터 섭씨온도를 입력받아서 다음과 같이 화씨온도로 출력하세요.\n",
    "섭씨온도를 입력하세요. : 30\n",
    "섭씨 30도는 화시 86.0 도 입니다."
   ]
  },
  {
   "cell_type": "code",
   "execution_count": 18,
   "metadata": {},
   "outputs": [
    {
     "name": "stdout",
     "output_type": "stream",
     "text": [
      "섭씨온도를 입력하세요. :30\n",
      "섭씨 30 도는 화시 86.0 도 입니다.\n"
     ]
    }
   ],
   "source": [
    "celsius = int(input('섭씨온도를 입력하세요. :'))\n",
    "fahrenheit=(9/5)*celsius+32\n",
    "print('섭씨',celsius,'도는 화시',fahrenheit,'도 입니다.')"
   ]
  },
  {
   "cell_type": "markdown",
   "metadata": {},
   "source": [
    "심화문제 2.10\n",
    "\n",
    "사용자로부터 반지름 값을 입력받아서 이 반지름을 가진 원의 둘레와 면적을 다음과 같이 출력하라.\n",
    "원의 반지름을 입력하세요. : 11\n",
    "원의 둘레 = 69.115024,  원의 면적=380.132632"
   ]
  },
  {
   "cell_type": "code",
   "execution_count": 19,
   "metadata": {},
   "outputs": [
    {
     "name": "stdout",
     "output_type": "stream",
     "text": [
      "원의 반지름을 입력하세요. :11\n",
      "원의 둘레 = 69.115024 원의 면적 = 380.132632\n"
     ]
    }
   ],
   "source": [
    "radius = int(input('원의 반지름을 입력하세요. :'))\n",
    "PI = 3.141592\n",
    "area = PI * radius**2\n",
    "circ = 2*PI*radius\n",
    "print('원의 둘레 =', circ, '원의 면적 =', area)"
   ]
  },
  {
   "cell_type": "markdown",
   "metadata": {},
   "source": [
    "심화문제 2.11\n",
    "\n",
    "print함수를 이용하여 다음과 같은 내용을 출력하세요.\n",
    "It's really hot!\n",
    "I said \"Hello!\" to him.\n",
    "He said \"What's there?\"\n",
    "Newline character is \\n, Tab character is \\t.\n",
    "Working directory is C:\\workspace\\mywork."
   ]
  },
  {
   "cell_type": "code",
   "execution_count": 20,
   "metadata": {},
   "outputs": [
    {
     "name": "stdout",
     "output_type": "stream",
     "text": [
      "It's really hot!\n",
      "I said \"Hello!\" to him.\n",
      "He said \"What's there?\"\n",
      "Newline character is \n",
      ", Tab character is \t.\n",
      "Working directory is C:\\workspace\\mywork.\n"
     ]
    }
   ],
   "source": [
    "print(\"It's really hot!\")\n",
    "print('I said \"Hello!\" to him.')\n",
    "print('He said \"What\\'s there?\"')\n",
    "print('Newline character is \\n, Tab character is \\t.')\n",
    "print('Working directory is C:\\\\workspace\\\\mywork.')"
   ]
  }
 ],
 "metadata": {
  "kernelspec": {
   "display_name": "Python 3",
   "language": "python",
   "name": "python3"
  },
  "language_info": {
   "codemirror_mode": {
    "name": "ipython",
    "version": 3
   },
   "file_extension": ".py",
   "mimetype": "text/x-python",
   "name": "python",
   "nbconvert_exporter": "python",
   "pygments_lexer": "ipython3",
   "version": "3.8.8"
  }
 },
 "nbformat": 4,
 "nbformat_minor": 4
}
