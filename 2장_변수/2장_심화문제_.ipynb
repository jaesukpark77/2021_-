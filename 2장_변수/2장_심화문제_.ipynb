{
 "cells": [
  {
   "cell_type": "markdown",
   "metadata": {
    "id": "tBxHmZgQKODG"
   },
   "source": [
    "# 데이터과학 파이썬 2장 도전문제와 심화문제 풀이\n",
    "- 저자 : 천인국, 박동규, 강영민\n"
   ]
  },
  {
   "cell_type": "markdown",
   "metadata": {
    "id": "eF6R_EIG3izo"
   },
   "source": [
    "## 도전문제 풀이"
   ]
  },
  {
   "cell_type": "markdown",
   "metadata": {
    "id": "O2WWvXUPAjtD"
   },
   "source": [
    "### 도전문제 2.1"
   ]
  },
  {
   "cell_type": "code",
   "execution_count": null,
   "metadata": {
    "id": "6jboAxx7Ay7K"
   },
   "outputs": [],
   "source": [
    "height = 1.72\n",
    "weight = 78.8\n",
    "\n",
    "print(\"BMI :\", weight/height**2)"
   ]
  },
  {
   "cell_type": "markdown",
   "metadata": {
    "id": "ElfnoSAhzApN"
   },
   "source": [
    "### 도전문제 2.2"
   ]
  },
  {
   "cell_type": "code",
   "execution_count": null,
   "metadata": {
    "id": "C-fx4rHeSXgu"
   },
   "outputs": [],
   "source": [
    "radius = 20 \n",
    "area = 3.14 * radius**2 \n",
    "circ = 2 * 3.14 * radius\n",
    "print('피자 면적은', area, '피자 둘레는', circ)"
   ]
  },
  {
   "cell_type": "markdown",
   "metadata": {
    "id": "rvHp2xLI0zGv"
   },
   "source": [
    "### 도전문제 2.4"
   ]
  },
  {
   "cell_type": "code",
   "execution_count": null,
   "metadata": {
    "id": "Ye9rqau7zwBv"
   },
   "outputs": [],
   "source": [
    "principal = 100000000\n",
    "years = 5 \n",
    "interest_rate = 0.03 \n",
    "money = principal * (1.0 + interest_rate) ** years \n",
    "\n",
    "print('원금:  ', principal)\n",
    "print('이율:  ', interest_rate)\n",
    "print('기간:  ', years)\n",
    "print('수령금액: ', money)"
   ]
  },
  {
   "cell_type": "markdown",
   "metadata": {
    "id": "YAlA8PbW1RNN"
   },
   "source": [
    "### 도전문제 2.6"
   ]
  },
  {
   "cell_type": "code",
   "execution_count": null,
   "metadata": {
    "id": "D2QmhTPR1EFI"
   },
   "outputs": [],
   "source": [
    "height = float(input(\"신장 입력:\"))\n",
    "weight = float(input(\"체중 입력:\"))\n",
    "\n",
    "print(\"BMI :\", weight/height**2)"
   ]
  },
  {
   "cell_type": "code",
   "execution_count": null,
   "metadata": {
    "id": "Ya_1d9Kv2LRE"
   },
   "outputs": [],
   "source": [
    "x = int(input(\"첫 번째 정수를 입력하시오: \")) \n",
    "y = int(input(\"두 번째 정수를 입력하시오: \")) \n",
    "s = x + y \n",
    "a = s / 2\n",
    "print(x, \"과\", y, \"의 합은\", s, \"이고, 평균은\", a, \"입니다.\")"
   ]
  },
  {
   "cell_type": "code",
   "execution_count": null,
   "metadata": {
    "id": "ue8oW6MY2sl6"
   },
   "outputs": [],
   "source": [
    "x = int(input(\"첫 번째 정수를 입력하시오: \")) \n",
    "y = int(input(\"두 번째 정수를 입력하시오: \")) \n",
    "z = int(input(\"세 번째 정수를 입력하시오: \")) \n",
    "s = x + y + z\n",
    "a = s / 3\n",
    "print(x, y, z, \"의 합은\", s, \"이고, 평균은\", a, \"입니다.\")"
   ]
  },
  {
   "cell_type": "markdown",
   "metadata": {
    "id": "G04HnV5bb5WL"
   },
   "source": [
    "### 도전문제 2.7"
   ]
  },
  {
   "cell_type": "code",
   "execution_count": null,
   "metadata": {
    "id": "6SRGRIPjb8zc"
   },
   "outputs": [],
   "source": [
    "# 축구 경기 예시\n",
    "\n",
    "# 사용자의 대답을 변수에 저장한다. \n",
    "stadium = input(\"경기장은 어디입니까? \") \n",
    "winner = input(\"이긴 팀은 어디입니까? \") \n",
    "loser = input(\"진 팀은 어디입니까? \") \n",
    "vip = input(\"우수선수는 누구입니까? \") \n",
    "score = input(\"우수선수는 몇 골을 넣었습니까? \") \n",
    "\n",
    "# 사용자의 입력을 바탕으로 기사를 작성한다.\n",
    "print(\"\") \n",
    "print(\"===========================================\") \n",
    "print(\"오늘\", stadium, \"에서 축구 경기가 열렸습니다.\") \n",
    "print(winner, \"과\", loser, \"은 치열한 공방전을 펼쳤습니다.\") \n",
    "print(vip, \"의 맹활약으로 \", vip,\"이\", score,\"골을 넣었습니다.\") \n",
    "print(\"===========================================\")"
   ]
  },
  {
   "cell_type": "markdown",
   "metadata": {
    "id": "G5YyLvoP3q_P"
   },
   "source": [
    "### 심화문제 2.4.1\n"
   ]
  },
  {
   "cell_type": "code",
   "execution_count": null,
   "metadata": {
    "id": "qa09DVN_3u8y"
   },
   "outputs": [],
   "source": [
    "width = 40\n",
    "height = 20\n",
    "area = width * height * 0.5\n",
    "print('삼각형의 면적 :', area)"
   ]
  },
  {
   "cell_type": "markdown",
   "metadata": {
    "id": "wsgt2cBH_U57"
   },
   "source": [
    "### 심화문제 2.4.3\n"
   ]
  },
  {
   "cell_type": "code",
   "execution_count": null,
   "metadata": {
    "id": "7t1CNzXX_Xzi"
   },
   "outputs": [],
   "source": [
    "width, height = 40, 20\n",
    "area = width * height * 0.5\n",
    "print('삼각형의 면적 :', area)"
   ]
  },
  {
   "cell_type": "markdown",
   "metadata": {
    "id": "PzYVi0uX_beq"
   },
   "source": [
    "### 심화문제 2.5\n"
   ]
  },
  {
   "cell_type": "code",
   "execution_count": null,
   "metadata": {
    "id": "344gMHQEasIz"
   },
   "outputs": [],
   "source": [
    "width = int(input('정사각형의 밑변을 입력하시오 : '))\n",
    "area = width**2\n",
    "print('정사각형의 면적 :', area)"
   ]
  },
  {
   "cell_type": "markdown",
   "metadata": {
    "id": "FtVzpRTPavC7"
   },
   "source": [
    "### 심화문제 2.8"
   ]
  },
  {
   "cell_type": "code",
   "execution_count": null,
   "metadata": {
    "id": "32F0hCtbayP7"
   },
   "outputs": [],
   "source": [
    "print('섭씨 화씨')\n",
    "\n",
    "celsius = 0\n",
    "fahrenheit = (9/5) * celsius + 32\n",
    "print(celsius, ' ', fahrenheit)\n",
    "\n",
    "celsius = 10\n",
    "fahrenheit = (9/5) * celsius + 32\n",
    "print(celsius, '', fahrenheit)\n",
    "\n",
    "celsius = 20\n",
    "fahrenheit = (9/5) * celsius + 32\n",
    "print(celsius, '', fahrenheit)\n",
    "\n",
    "celsius = 30\n",
    "fahrenheit = (9/5) * celsius + 32\n",
    "print(celsius, '', fahrenheit)\n",
    "\n",
    "celsius = 40\n",
    "fahrenheit = (9/5) * celsius + 32\n",
    "print(celsius, fahrenheit)\n",
    "\n",
    "celsius = 50\n",
    "fahrenheit = (9/5) * celsius + 32\n",
    "print(celsius, fahrenheit)"
   ]
  },
  {
   "cell_type": "markdown",
   "metadata": {
    "id": "vrTPasN1bjL7"
   },
   "source": [
    "### 심화문제 2.9"
   ]
  },
  {
   "cell_type": "code",
   "execution_count": null,
   "metadata": {
    "id": "WGUwwQSfbpVb"
   },
   "outputs": [],
   "source": [
    "celsius = int(input('섭씨온도를 입력하세요 : '))\n",
    "fahrenheit = (9/5) * celsius + 32\n",
    "print('섭씨',celsius, '도는 화씨', fahrenheit, '도 입니다.')"
   ]
  },
  {
   "cell_type": "markdown",
   "metadata": {
    "id": "l1YqBvWLbquN"
   },
   "source": [
    "### 심화문제 2.10"
   ]
  },
  {
   "cell_type": "code",
   "execution_count": null,
   "metadata": {
    "id": "qDCKdWyXbt5D"
   },
   "outputs": [],
   "source": [
    "radius = int(input('원의 반지름을 입력하세요 : '))\n",
    "PI = 3.141592\n",
    "area = PI * radius**2\n",
    "circumference = 2 * PI * radius\n",
    "print('원의 둘레 =',str(circumference) + ', 원의 면적 =', area)"
   ]
  },
  {
   "cell_type": "markdown",
   "metadata": {
    "id": "7qc0pMChbv7c"
   },
   "source": [
    "### 심화문제 2.11"
   ]
  },
  {
   "cell_type": "code",
   "execution_count": null,
   "metadata": {
    "id": "4w0tkje1bx0L"
   },
   "outputs": [],
   "source": [
    "print(\"It's really hot!\")\n",
    "print('I said \"Hello!\" to him.')\n",
    "print('He said \"What\\'s there?\"')\n",
    "print('Newline character is \\\\n, Tab character is \\\\t.')\n",
    "print('Working directory is C:\\\\workspace\\\\mywork.')"
   ]
  }
 ],
 "metadata": {
  "colab": {
   "collapsed_sections": [],
   "name": "2장_도전문제_심화문제.ipynb",
   "provenance": []
  },
  "kernelspec": {
   "display_name": "Python 3",
   "language": "python",
   "name": "python3"
  },
  "language_info": {
   "codemirror_mode": {
    "name": "ipython",
    "version": 3
   },
   "file_extension": ".py",
   "mimetype": "text/x-python",
   "name": "python",
   "nbconvert_exporter": "python",
   "pygments_lexer": "ipython3",
   "version": "3.8.8"
  }
 },
 "nbformat": 4,
 "nbformat_minor": 1
}
