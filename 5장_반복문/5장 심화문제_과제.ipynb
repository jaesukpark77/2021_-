{
 "cells": [
  {
   "cell_type": "markdown",
   "id": "f9d1e669",
   "metadata": {},
   "source": [
    "### 전자정보공학부\n",
    "### 20170586 박재석\n",
    "### 5장_심화문제_과제"
   ]
  },
  {
   "cell_type": "code",
   "execution_count": 1,
   "id": "a841fe7a",
   "metadata": {},
   "outputs": [
    {
     "name": "stdout",
     "output_type": "stream",
     "text": [
      "1에서 100까지의 수 중에서 홀수는 : \n",
      "1 3 5 7 9 11 13 15 17 19 21 23 25 27 29 31 33 35 37 39 41 43 45 47 49 51 53 55 57 59 61 63 65 67 69 71 73 75 77 79 81 83 85 87 89 91 93 95 97 99 "
     ]
    }
   ],
   "source": [
    "# 5.1 (1)\n",
    "\n",
    "print(f'1에서 100까지의 수 중에서 홀수는 : ')\n",
    "\n",
    "for i in range(1, 100, 2):\n",
    "    print(f'{i}', end=\" \")"
   ]
  },
  {
   "cell_type": "code",
   "execution_count": 2,
   "id": "4acc2678",
   "metadata": {},
   "outputs": [
    {
     "name": "stdout",
     "output_type": "stream",
     "text": [
      "1에서 100까지의 수 중에서 홀수는 : \n",
      "1 3 5 7 9 11 13 15 17 19 21 23 25 27 29 31 33 35 37 39 41 43 45 47 49 51 53 55 57 59 61 63 65 67 69 71 73 75 77 79 81 83 85 87 89 91 93 95 97 99 "
     ]
    }
   ],
   "source": [
    "# 5.1 (2)\n",
    "\n",
    "print(f'1에서 100까지의 수 중에서 홀수는 : ')\n",
    "\n",
    "i = 1\n",
    "\n",
    "while(i <= 100):\n",
    "    print(f'{i}', end=\" \")\n",
    "    i += 2"
   ]
  },
  {
   "cell_type": "code",
   "execution_count": 3,
   "id": "be5ad4de",
   "metadata": {},
   "outputs": [
    {
     "name": "stdout",
     "output_type": "stream",
     "text": [
      "1에서 100까지의 수 중에서 짝수는 : \n",
      "2 4 6 8 10 12 14 16 18 20 22 24 26 28 30 32 34 36 38 40 42 44 46 48 50 52 54 56 58 60 62 64 66 68 70 72 74 76 78 80 82 84 86 88 90 92 94 96 98 100 "
     ]
    }
   ],
   "source": [
    "# 5.1 (3)\n",
    "\n",
    "# for문 사용\n",
    "\n",
    "print(f'1에서 100까지의 수 중에서 짝수는 : ')\n",
    "\n",
    "for i in range(2, 101, 2):\n",
    "    print(f'{i}', end=\" \")"
   ]
  },
  {
   "cell_type": "code",
   "execution_count": 4,
   "id": "a96b0e1d",
   "metadata": {},
   "outputs": [
    {
     "name": "stdout",
     "output_type": "stream",
     "text": [
      "1에서 100까지의 수 중에서 짝수는 : \n",
      "2 4 6 8 10 12 14 16 18 20 22 24 26 28 30 32 34 36 38 40 42 44 46 48 50 52 54 56 58 60 62 64 66 68 70 72 74 76 78 80 82 84 86 88 90 92 94 96 98 100 "
     ]
    }
   ],
   "source": [
    "# 5.1 (3)\n",
    "\n",
    "# for문 사용\n",
    "\n",
    "print(f'1에서 100까지의 수 중에서 짝수는 : ')\n",
    "\n",
    "i = 0\n",
    "\n",
    "while(i <= 98):\n",
    "    i += 2\n",
    "    print(f'{i}', end=\" \")"
   ]
  },
  {
   "cell_type": "code",
   "execution_count": 5,
   "id": "6338b38f",
   "metadata": {},
   "outputs": [
    {
     "name": "stdout",
     "output_type": "stream",
     "text": [
      "1에서 100까지의 수 중에서 홀수의 합 : 2500\n"
     ]
    }
   ],
   "source": [
    "# 5.2 (1)\n",
    "\n",
    "#for문\n",
    "sum = 0\n",
    "\n",
    "for i in range(1, 100, 2):\n",
    "    sum += i\n",
    "    \n",
    "print(f'1에서 100까지의 수 중에서 홀수의 합 : {sum}')"
   ]
  },
  {
   "cell_type": "code",
   "execution_count": 6,
   "id": "7ed7e29b",
   "metadata": {},
   "outputs": [
    {
     "name": "stdout",
     "output_type": "stream",
     "text": [
      "1에서 100까지의 수 중에서 홀수의 합 : 2500\n"
     ]
    }
   ],
   "source": [
    "# 5.2 (1)\n",
    "\n",
    "#while문\n",
    "sum = 0\n",
    "i = 1\n",
    "\n",
    "while(i<=100):\n",
    "    sum += i\n",
    "    i += 2\n",
    "\n",
    "print(f'1에서 100까지의 수 중에서 홀수의 합 : {sum}')"
   ]
  },
  {
   "cell_type": "code",
   "execution_count": 7,
   "id": "c8c4c27b",
   "metadata": {},
   "outputs": [
    {
     "name": "stdout",
     "output_type": "stream",
     "text": [
      "1에서 100까지의 수 중에서 짝수의 합 : 2550\n"
     ]
    }
   ],
   "source": [
    "# 5.2 (2)\n",
    "\n",
    "#for문\n",
    "sum = 0\n",
    "\n",
    "for i in range(2, 101, 2):\n",
    "    sum += i\n",
    "    \n",
    "print(f'1에서 100까지의 수 중에서 짝수의 합 : {sum}')"
   ]
  },
  {
   "cell_type": "code",
   "execution_count": 8,
   "id": "34c75215",
   "metadata": {},
   "outputs": [
    {
     "name": "stdout",
     "output_type": "stream",
     "text": [
      "1에서 100까지의 수 중에서 짝수의 합 : 2550\n"
     ]
    }
   ],
   "source": [
    "# 5.2 (2)\n",
    "\n",
    "#while문\n",
    "sum = 0\n",
    "i = 2\n",
    "\n",
    "while(i<=100):\n",
    "    sum += i\n",
    "    i += 2\n",
    "\n",
    "print(f'1에서 100까지의 수 중에서 짝수의 합 : {sum}')"
   ]
  },
  {
   "cell_type": "code",
   "execution_count": 9,
   "id": "4a4abab8",
   "metadata": {},
   "outputs": [
    {
     "name": "stdout",
     "output_type": "stream",
     "text": [
      "시작 정수를 입력하세요 : 2\n",
      "끝 정수를 입력하세요 : 6\n",
      "2에서 6까지 정수의 합 : 20\n"
     ]
    }
   ],
   "source": [
    "# 5.2 (3)\n",
    "\n",
    "start = int(input('시작 정수를 입력하세요 : '))\n",
    "end = int(input('끝 정수를 입력하세요 : '))\n",
    "\n",
    "sum = 0\n",
    "\n",
    "for i in range(start, end+1, 1):\n",
    "    sum += i\n",
    "\n",
    "print(f'{start}에서 {end}까지 정수의 합 : {sum}')"
   ]
  }
 ],
 "metadata": {
  "kernelspec": {
   "display_name": "Python 3",
   "language": "python",
   "name": "python3"
  },
  "language_info": {
   "codemirror_mode": {
    "name": "ipython",
    "version": 3
   },
   "file_extension": ".py",
   "mimetype": "text/x-python",
   "name": "python",
   "nbconvert_exporter": "python",
   "pygments_lexer": "ipython3",
   "version": "3.8.8"
  }
 },
 "nbformat": 4,
 "nbformat_minor": 5
}
