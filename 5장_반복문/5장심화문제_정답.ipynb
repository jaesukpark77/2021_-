{
 "cells": [
  {
   "cell_type": "code",
   "execution_count": 1,
   "metadata": {},
   "outputs": [
    {
     "name": "stdout",
     "output_type": "stream",
     "text": [
      "1에서 100까지의 수 중에서 홀수는 :\n",
      "1 3 5 7 9 11 13 15 17 19 21 23 25 27 29 31 33 35 37 39 41 43 45 47 49 51 53 55 57 59 61 63 65 67 69 71 73 75 77 79 81 83 85 87 89 91 93 95 97 99 "
     ]
    }
   ],
   "source": [
    "#과제 5.1\n",
    "\n",
    "print('1에서 100까지의 수 중에서 홀수는 :')\n",
    "\n",
    "# 조건문을 사용한 출력\n",
    "for i in range(1,101):\n",
    "    if i % 2 == 1:\n",
    "        print(i, end=' ')\n",
    "\n",
    "# 효율적인 방식\n",
    "# for i in range(1,51):\n",
    "#     print(2 * i - 1, end=' ')"
   ]
  },
  {
   "cell_type": "code",
   "execution_count": 2,
   "metadata": {},
   "outputs": [
    {
     "name": "stdout",
     "output_type": "stream",
     "text": [
      "1에서 100까지의 수 중에서 홀수는 :\n",
      "1 3 5 7 9 11 13 15 17 19 21 23 25 27 29 31 33 35 37 39 41 43 45 47 49 51 53 55 57 59 61 63 65 67 69 71 73 75 77 79 81 83 85 87 89 91 93 95 97 99 "
     ]
    }
   ],
   "source": [
    "print('1에서 100까지의 수 중에서 홀수는 :')\n",
    "\n",
    "i = 1\n",
    "\n",
    "# 조건문을 사용한 출력\n",
    "while i < 101:\n",
    "    if i % 2 == 1:\n",
    "        print(i, end=' ')\n",
    "    i += 1\n",
    "\n",
    "# 효율적인 방식\n",
    "# while i < 51:\n",
    "#     print(2 * i - 1, end=' ')\n",
    "#     i += 1"
   ]
  },
  {
   "cell_type": "code",
   "execution_count": 3,
   "metadata": {},
   "outputs": [
    {
     "name": "stdout",
     "output_type": "stream",
     "text": [
      "1에서 100까지의 수 중에서 짝수는 :\n",
      "2 4 6 8 10 12 14 16 18 20 22 24 26 28 30 32 34 36 38 40 42 44 46 48 50 52 54 56 58 60 62 64 66 68 70 72 74 76 78 80 82 84 86 88 90 92 94 96 98 100 "
     ]
    }
   ],
   "source": [
    "print('1에서 100까지의 수 중에서 짝수는 :')\n",
    "\n",
    "# for문을 사용한 출력\n",
    "for i in range(1,101):\n",
    "    if i % 2 == 0:\n",
    "        print(i, end=' ')\n",
    "\n",
    "# while문을 사용한 출력\n",
    "# i = 1\n",
    "# while i < 101:\n",
    "#     if i % 2 == 0:\n",
    "#         print(i, end=' ')\n",
    "#     i += 1"
   ]
  },
  {
   "cell_type": "code",
   "execution_count": 4,
   "metadata": {},
   "outputs": [
    {
     "name": "stdout",
     "output_type": "stream",
     "text": [
      "1에서 100까지의 수 중에서 홀수의 합 : 2500\n"
     ]
    }
   ],
   "source": [
    "#과제 5.2\n",
    "print('1에서 100까지의 수 중에서 홀수의 합 :', end=' ')\n",
    "\n",
    "result = 0\n",
    "\n",
    "# for문을 사용한 출력\n",
    "for i in range(1,101):\n",
    "    if i % 2 == 1:\n",
    "        result += i\n",
    "\n",
    "# while문을 사용한 출력\n",
    "# i = 1\n",
    "# while i < 101:\n",
    "#     if i % 2 == 1:\n",
    "#         result += i\n",
    "#     i += 1\n",
    "\n",
    "print(result)"
   ]
  },
  {
   "cell_type": "code",
   "execution_count": 5,
   "metadata": {},
   "outputs": [
    {
     "name": "stdout",
     "output_type": "stream",
     "text": [
      "1에서 100까지의 수 중에서 짝수의 합 : 2550\n"
     ]
    }
   ],
   "source": [
    "print('1에서 100까지의 수 중에서 짝수의 합 :', end=' ')\n",
    "\n",
    "result = 0\n",
    "\n",
    "# for문을 사용한 출력\n",
    "for i in range(1,101):\n",
    "    if i % 2 == 0:\n",
    "        result += i\n",
    "\n",
    "# while문을 사용한 출력\n",
    "# i = 1\n",
    "# while i < 101:\n",
    "#     if i % 2 == 0:\n",
    "#         result += i\n",
    "#     i += 1\n",
    "\n",
    "print(result)"
   ]
  },
  {
   "cell_type": "code",
   "execution_count": null,
   "metadata": {},
   "outputs": [],
   "source": [
    "start = input('시작 정수를 입력하세요 : ')\n",
    "end = input('끝 정수를 입력하세요 : ')\n",
    "\n",
    "result = 0\n",
    "\n",
    "for i in range(int(start), int(end)+1):\n",
    "    result += i\n",
    "print(start, '에서', end, '까지 정수의 합 :', result)"
   ]
  }
 ],
 "metadata": {
  "kernelspec": {
   "display_name": "Python 3",
   "language": "python",
   "name": "python3"
  },
  "language_info": {
   "codemirror_mode": {
    "name": "ipython",
    "version": 3
   },
   "file_extension": ".py",
   "mimetype": "text/x-python",
   "name": "python",
   "nbconvert_exporter": "python",
   "pygments_lexer": "ipython3",
   "version": "3.8.5"
  }
 },
 "nbformat": 4,
 "nbformat_minor": 4
}
