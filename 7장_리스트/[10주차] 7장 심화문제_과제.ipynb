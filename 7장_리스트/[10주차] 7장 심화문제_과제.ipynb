{
 "cells": [
  {
   "cell_type": "markdown",
   "id": "382d562d",
   "metadata": {},
   "source": [
    "### 7장 심화문제\n",
    "### 전자정보공학부 IT융합과\n",
    "### 20170586 박재석"
   ]
  },
  {
   "cell_type": "code",
   "execution_count": 10,
   "id": "91dabcef",
   "metadata": {},
   "outputs": [
    {
     "name": "stdout",
     "output_type": "stream",
     "text": [
      "['A1', 'A2', 'B1', 'B2', 'C1', 'C2']\n"
     ]
    }
   ],
   "source": [
    "# 7.5\n",
    "\n",
    "tuple1 = ('A', 'B', 'C')\n",
    "tuple2 = ('1', '2')\n",
    "\n",
    "res = []\n",
    "\n",
    "for i in range(len(tuple1)):\n",
    "    for j in range(len(tuple2)):\n",
    "        r = tuple1[i] + tuple2[j]\n",
    "        res.append(r)\n",
    "        \n",
    "print(res)"
   ]
  },
  {
   "cell_type": "code",
   "execution_count": 12,
   "id": "9bf2f3c0",
   "metadata": {},
   "outputs": [
    {
     "name": "stdout",
     "output_type": "stream",
     "text": [
      "['A1', 'A2', 'B1', 'B2', 'C1', 'C2']\n"
     ]
    }
   ],
   "source": [
    "# 7.5(정수)\n",
    "\n",
    "tuple1 = ('A', 'B', 'C')\n",
    "tuple2 = (1, 2)\n",
    "\n",
    "res = []\n",
    "\n",
    "for i in range(len(tuple1)):\n",
    "    for j in range(len(tuple2)):\n",
    "        r = tuple1[i] + str(tuple2[j])\n",
    "        res.append(r)\n",
    "        \n",
    "print(res)"
   ]
  },
  {
   "cell_type": "code",
   "execution_count": 22,
   "id": "537a9e2a",
   "metadata": {},
   "outputs": [
    {
     "name": "stdout",
     "output_type": "stream",
     "text": [
      "문자열을 입력하세요python\n",
      "\n",
      "p\n",
      "py\n",
      "pyt\n",
      "pyth\n",
      "pytho\n",
      "python\n",
      "pytho\n",
      "pyth\n",
      "pyt\n",
      "py\n",
      "p\n",
      "\n"
     ]
    }
   ],
   "source": [
    "# 7.6\n",
    "\n",
    "str = input('문자열을 입력하세요')\n",
    "\n",
    "for i in range(len(str)+1):\n",
    "    print(str[:i])\n",
    "for j in range(len(str)):\n",
    "    print(str[:len(str)-1-j])"
   ]
  },
  {
   "cell_type": "code",
   "execution_count": 6,
   "id": "0edfb0eb",
   "metadata": {},
   "outputs": [
    {
     "data": {
      "text/plain": [
       "['kiwi', 'apple', 'melon']"
      ]
     },
     "execution_count": 6,
     "metadata": {},
     "output_type": "execute_result"
    }
   ],
   "source": [
    "# 7.7_1\n",
    "\n",
    "fruit_list=['banana', 'orange', 'kiwi', 'apple', 'melon']\n",
    "\n",
    "max_a=0\n",
    "max_b=0\n",
    "remove_a=[]\n",
    "remove_b=[]\n",
    "\n",
    "\n",
    "for i in range(len(fruit_list)):\n",
    "    if (len(fruit_list[i]) > max_a):\n",
    "        max_a = len(fruit_list[i])\n",
    "        max_b=i\n",
    "\n",
    "for i in range(len(fruit_list)):\n",
    "    if (len(fruit_list[i]) == max_a):\n",
    "        remove_a.append(i)\n",
    "        \n",
    "\n",
    "for i in remove_a:\n",
    "    remove_b.append(fruit_list[i])\n",
    "    \n",
    "for i in remove_b:\n",
    "    fruit_list.remove(i)\n",
    "    \n",
    "fruit_list"
   ]
  },
  {
   "cell_type": "code",
   "execution_count": 7,
   "id": "5b81b379",
   "metadata": {},
   "outputs": [
    {
     "name": "stdout",
     "output_type": "stream",
     "text": [
      "banana : 문자열의 길이 6\n",
      "orange : 문자열의 길이 6\n",
      "kiwi : 문자열의 길이 4\n",
      "apple : 문자열의 길이 5\n",
      "melon : 문자열의 길이 5\n"
     ]
    }
   ],
   "source": [
    "#7.7_2\n",
    "\n",
    "fruit_list=['banana', 'orange', 'kiwi', 'apple', 'melon']\n",
    "\n",
    "for i in range(len(fruit_list)):\n",
    "    print(f'{fruit_list[i]} : 문자열의 길이 {len(fruit_list[i])}')"
   ]
  },
  {
   "cell_type": "code",
   "execution_count": 18,
   "id": "fac79143",
   "metadata": {},
   "outputs": [
    {
     "name": "stdout",
     "output_type": "stream",
     "text": [
      "n을 입력하시오 :5\n",
      "  1  2  3  4  5\n",
      "  6  7  8  9 10\n",
      " 11 12 13 14 15\n",
      " 16 17 18 19 20\n",
      " 21 22 23 24 25\n"
     ]
    }
   ],
   "source": [
    "#7.8\n",
    "\n",
    "n = int(input('n을 입력하시오 :'))\n",
    "\n",
    "cnt = 1\n",
    "\n",
    "for i in range(n):\n",
    "    for j in range(n):\n",
    "        print(f'{cnt:3}', end= '')\n",
    "        cnt += 1\n",
    "    print('')"
   ]
  },
  {
   "cell_type": "code",
   "execution_count": null,
   "id": "a3252f06",
   "metadata": {},
   "outputs": [],
   "source": []
  }
 ],
 "metadata": {
  "kernelspec": {
   "display_name": "Python 3",
   "language": "python",
   "name": "python3"
  },
  "language_info": {
   "codemirror_mode": {
    "name": "ipython",
    "version": 3
   },
   "file_extension": ".py",
   "mimetype": "text/x-python",
   "name": "python",
   "nbconvert_exporter": "python",
   "pygments_lexer": "ipython3",
   "version": "3.8.8"
  }
 },
 "nbformat": 4,
 "nbformat_minor": 5
}
