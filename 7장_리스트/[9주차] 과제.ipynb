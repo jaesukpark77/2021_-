{
 "cells": [
  {
   "cell_type": "markdown",
   "id": "51453862",
   "metadata": {},
   "source": [
    "### 9주차 과제\n",
    "### 전자정보공학부 IT융합과\n",
    "### 20170586 박재석"
   ]
  },
  {
   "cell_type": "code",
   "execution_count": 1,
   "id": "87062512",
   "metadata": {},
   "outputs": [
    {
     "name": "stdout",
     "output_type": "stream",
     "text": [
      "700\n",
      "500\n",
      "[100, 200, 300]\n",
      "[200, 300, 400, 500]\n",
      "[800, 700, 600, 500]\n",
      "[400, 500, 600, 700]\n",
      "700\n",
      "900\n"
     ]
    }
   ],
   "source": [
    "#1\n",
    "num_list = [100,200,300,400,500,600,700,800]\n",
    "high = 6\n",
    "low = 3\n",
    "\n",
    "print(num_list[high])\n",
    "print(num_list[high-2])\n",
    "print(num_list[:3])\n",
    "print(num_list[1:5])\n",
    "print(num_list[-1:-5:-1])\n",
    "print(num_list[-5:-1:1])\n",
    "print(num_list[2*3])\n",
    "print(num_list[2]*3)"
   ]
  },
  {
   "cell_type": "code",
   "execution_count": 2,
   "id": "392b5e7d",
   "metadata": {},
   "outputs": [
    {
     "name": "stdout",
     "output_type": "stream",
     "text": [
      "3 * 2 = 6\n",
      "3 * 3 = 9\n",
      "3 * 4 = 12\n",
      "3 * 5 = 15\n",
      "3 * 6 = 18\n",
      "5 * 2 = 10\n",
      "5 * 3 = 15\n",
      "5 * 4 = 20\n",
      "5 * 5 = 25\n",
      "5 * 6 = 30\n",
      "7 * 2 = 14\n",
      "7 * 3 = 21\n",
      "7 * 4 = 28\n",
      "7 * 5 = 35\n",
      "7 * 6 = 42\n"
     ]
    }
   ],
   "source": [
    "list1 = [3,5,7]\n",
    "list2 = [2,3,4,5,6]\n",
    "\n",
    "for i in list1:\n",
    "    for j in list2:\n",
    "        print(f'{i} * {j} = {i*j}')"
   ]
  },
  {
   "cell_type": "code",
   "execution_count": null,
   "id": "fc890d0b",
   "metadata": {},
   "outputs": [],
   "source": []
  }
 ],
 "metadata": {
  "kernelspec": {
   "display_name": "Python 3",
   "language": "python",
   "name": "python3"
  },
  "language_info": {
   "codemirror_mode": {
    "name": "ipython",
    "version": 3
   },
   "file_extension": ".py",
   "mimetype": "text/x-python",
   "name": "python",
   "nbconvert_exporter": "python",
   "pygments_lexer": "ipython3",
   "version": "3.8.8"
  }
 },
 "nbformat": 4,
 "nbformat_minor": 5
}
