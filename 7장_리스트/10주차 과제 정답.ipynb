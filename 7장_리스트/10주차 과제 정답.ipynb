{
 "cells": [
  {
   "cell_type": "code",
   "execution_count": 19,
   "metadata": {},
   "outputs": [
    {
     "name": "stdout",
     "output_type": "stream",
     "text": [
      "['A1', 'A2', 'B1', 'B2', 'C1', 'C2']\n"
     ]
    }
   ],
   "source": [
    "#7.5\n",
    "\n",
    "word = ('A', 'B', 'C')\n",
    "number = (1, 2)\n",
    "\n",
    "seats = [x + str(y) for x in word for y in number]\n",
    "print(seats)"
   ]
  },
  {
   "cell_type": "code",
   "execution_count": null,
   "metadata": {},
   "outputs": [],
   "source": [
    "#7.6\n",
    "\n",
    "word = input('문자열을 입력하세요 : ')\n",
    "size = len(word)\n",
    "\n",
    "for i in range(1, size+1):\n",
    "    print(word[:i])\n",
    "for i in range(-1, -size, -1):\n",
    "    print(word[:i])"
   ]
  },
  {
   "cell_type": "code",
   "execution_count": 20,
   "metadata": {},
   "outputs": [
    {
     "name": "stdout",
     "output_type": "stream",
     "text": [
      "['kiwi', 'apple', 'melon']\n"
     ]
    }
   ],
   "source": [
    "#7.7\n",
    "fruit_list = ['banana', 'orange', 'kiwi', 'apple', 'melon' ]\n",
    "\n",
    "maximum_size = 0\n",
    "maximum_list = []\n",
    "\n",
    "for fruit in fruit_list:\n",
    "    if len(fruit) > maximum_size:\n",
    "        maximum_list = [fruit]\n",
    "        maximum_size = len(fruit)\n",
    "    elif len(fruit) == maximum_size:\n",
    "        maximum_list.append(fruit)\n",
    "\n",
    "for fruit in maximum_list:\n",
    "    fruit_list.remove(fruit)\n",
    "\n",
    "print(fruit_list)"
   ]
  },
  {
   "cell_type": "code",
   "execution_count": 21,
   "metadata": {},
   "outputs": [
    {
     "name": "stdout",
     "output_type": "stream",
     "text": [
      "banana : 문자열의 길이 6\n",
      "orange : 문자열의 길이 6\n",
      "kiwi : 문자열의 길이 4\n",
      "apple : 문자열의 길이 5\n",
      "melon : 문자열의 길이 5\n"
     ]
    }
   ],
   "source": [
    "fruit_list = ['banana', 'orange', 'kiwi', 'apple', 'melon' ]\n",
    "\n",
    "for fruit in fruit_list:\n",
    "    print(fruit, ':', '문자열의 길이', len(fruit))"
   ]
  },
  {
   "cell_type": "code",
   "execution_count": 22,
   "metadata": {},
   "outputs": [
    {
     "name": "stdout",
     "output_type": "stream",
     "text": [
      "n을 입력하시오 : 3\n",
      "  1   2   3 \n",
      "  6   5   4 \n",
      "  7   8   9 \n"
     ]
    }
   ],
   "source": [
    "#7.8\n",
    "\n",
    "size = int(input('n을 입력하시오 : '))\n",
    "num_list1 = [i + 1 for i in range(size)]\n",
    "num_list2 = []\n",
    "\n",
    "for i in num_list1:\n",
    "    if i % 2 == 1:\n",
    "        num_list2 = num_list1[::1]\n",
    "    else:\n",
    "        num_list2 = num_list1[::-1]\n",
    "    \n",
    "    for number in num_list2:\n",
    "        print('{0:3d}'.format((i - 1) * size + number), end=' ')\n",
    "    print('')  "
   ]
  }
 ],
 "metadata": {
  "kernelspec": {
   "display_name": "Python 3",
   "language": "python",
   "name": "python3"
  },
  "language_info": {
   "codemirror_mode": {
    "name": "ipython",
    "version": 3
   },
   "file_extension": ".py",
   "mimetype": "text/x-python",
   "name": "python",
   "nbconvert_exporter": "python",
   "pygments_lexer": "ipython3",
   "version": "3.8.8"
  }
 },
 "nbformat": 4,
 "nbformat_minor": 4
}
