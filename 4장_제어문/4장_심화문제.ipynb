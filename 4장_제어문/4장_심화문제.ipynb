{
 "cells": [
  {
   "cell_type": "markdown",
   "id": "ac232cf0",
   "metadata": {},
   "source": [
    "## 과제\n",
    "### 학번 : 20170586\n",
    "### 이름 : 박재석"
   ]
  },
  {
   "cell_type": "code",
   "execution_count": 1,
   "id": "ea846674",
   "metadata": {},
   "outputs": [
    {
     "name": "stdout",
     "output_type": "stream",
     "text": [
      "알파벳을 입력하시오 : i\n",
      "i(은)는 모음입니다.\n"
     ]
    }
   ],
   "source": [
    "# 4.1\n",
    "\n",
    "alphabet=input('알파벳을 입력하시오 : ')\n",
    "for letter in alphabet:\n",
    "    if letter in ['a','e','i','o','u']:\n",
    "        print (f'{letter}(은)는 모음입니다.')\n",
    "    else:\n",
    "        print(f'{letter}(은)는 자음입니다.')"
   ]
  },
  {
   "cell_type": "code",
   "execution_count": 2,
   "id": "bbfd4b4e",
   "metadata": {},
   "outputs": [
    {
     "name": "stdout",
     "output_type": "stream",
     "text": [
      "세 정수를 입력하시오 : 9 122 4\n",
      "122 9 4\n"
     ]
    }
   ],
   "source": [
    "# 4.2\n",
    "\n",
    "import numpy\n",
    "\n",
    "num1, num2, num3 = map(int, input(\"세 정수를 입력하시오 : \").split())\n",
    "\n",
    "max_num = max(num1, num2, num3)\n",
    "\n",
    "med_num = int(numpy.median([num1, num2, num3]))\n",
    "\n",
    "min_num = min(num1, num2, num3)\n",
    "\n",
    "print(f'{max_num} {med_num} {min_num}')"
   ]
  },
  {
   "cell_type": "code",
   "execution_count": 3,
   "id": "42fb116f",
   "metadata": {},
   "outputs": [
    {
     "name": "stdout",
     "output_type": "stream",
     "text": [
      "나이를 입력하시오 : 25\n",
      "adult\n"
     ]
    }
   ],
   "source": [
    "# 4.3\n",
    "\n",
    "age = int(input('나이를 입력하시오 : '))\n",
    "\n",
    "if(age >= 20):\n",
    "    print('adult')\n",
    "elif (age >= 10):\n",
    "    print('youth')\n",
    "else:\n",
    "    print('kid')"
   ]
  },
  {
   "cell_type": "code",
   "execution_count": 4,
   "id": "22de7be4",
   "metadata": {},
   "outputs": [
    {
     "name": "stdout",
     "output_type": "stream",
     "text": [
      "정수를 입력하시오 : 15\n",
      "15는(은) 2(으)로 나누어지지 않습니다.\n",
      "15는(은) 3(으)로 나누어집니다.\n",
      "15는(은) 2와(과) 3 모두로 나누어지지 않습니다.\n"
     ]
    }
   ],
   "source": [
    "# 4.4\n",
    "\n",
    "num = int(input('정수를 입력하시오 : '))\n",
    "\n",
    "if (num % 2 == 0):\n",
    "    print(f'{num}는(은) 2(으)로 나누어집니다.')\n",
    "else:\n",
    "    print(f'{num}는(은) 2(으)로 나누어지지 않습니다.')\n",
    "    \n",
    "if (num % 3 == 0):\n",
    "    print(f'{num}는(은) 3(으)로 나누어집니다.')\n",
    "else:\n",
    "    print(f'{num}는(은) 3(으)로 나누어지지 않습니다.')\n",
    "\n",
    "if (num % 2 == 0 & num % 3 == 0):\n",
    "    print(f'{num}는(은) 2와(과) 3 모두로 나누어집니다.')\n",
    "else:\n",
    "    print(f'{num}는(은) 2와(과) 3 모두로 나누어지지 않습니다.')"
   ]
  },
  {
   "cell_type": "code",
   "execution_count": 5,
   "id": "12d31aa9",
   "metadata": {},
   "outputs": [
    {
     "name": "stdout",
     "output_type": "stream",
     "text": [
      "우리식당에 오신것을 환영합니다. 메뉴는 다음과 같습니다.\n",
      "-햄버거(입력 b)\n",
      "-치킨(입력 c)\n",
      "-피자(입력 p)\n",
      "메뉴는 선택하세요(알파벳 b, c, p 입력) : b\n",
      "햄버거를 선택하였습니다.\n"
     ]
    }
   ],
   "source": [
    "# 4.5\n",
    "\n",
    "print('우리식당에 오신것을 환영합니다. 메뉴는 다음과 같습니다.')\n",
    "print('-햄버거(입력 b)')\n",
    "print('-치킨(입력 c)')\n",
    "print('-피자(입력 p)')\n",
    "\n",
    "sel = str(input('메뉴는 선택하세요(알파벳 b, c, p 입력) : '))\n",
    "\n",
    "if(sel == 'b'):\n",
    "    print('햄버거를 선택하였습니다.')\n",
    "elif(sel == 'c'):\n",
    "    print('치킨을 선택하였습니다.')\n",
    "elif(sel == 'p'):\n",
    "    print('피자를 선택하였습니다.')\n",
    "else:\n",
    "    print('메뉴를 다시 선택하시오.')"
   ]
  },
  {
   "cell_type": "code",
   "execution_count": 6,
   "id": "7600b012",
   "metadata": {},
   "outputs": [
    {
     "name": "stdout",
     "output_type": "stream",
     "text": [
      "25 + 62 = 87\n",
      "잘했어요!!\n"
     ]
    }
   ],
   "source": [
    "# 4.6\n",
    "\n",
    "import random\n",
    "\n",
    "a = random.randint(1, 100)\n",
    "b = random.randint(1, 100)\n",
    "\n",
    "ans = int(input(f'{a} + {b} = '))\n",
    "\n",
    "if(ans == a + b):\n",
    "    print('잘했어요!!')\n",
    "else:\n",
    "    print(f'정답은 {a+b}입니다.')"
   ]
  }
 ],
 "metadata": {
  "kernelspec": {
   "display_name": "Python 3",
   "language": "python",
   "name": "python3"
  },
  "language_info": {
   "codemirror_mode": {
    "name": "ipython",
    "version": 3
   },
   "file_extension": ".py",
   "mimetype": "text/x-python",
   "name": "python",
   "nbconvert_exporter": "python",
   "pygments_lexer": "ipython3",
   "version": "3.8.8"
  }
 },
 "nbformat": 4,
 "nbformat_minor": 5
}
