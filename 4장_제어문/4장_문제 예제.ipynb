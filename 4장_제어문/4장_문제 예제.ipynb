{
 "cells": [
  {
   "cell_type": "code",
   "execution_count": 1,
   "id": "a9fa1ab2",
   "metadata": {},
   "outputs": [
    {
     "name": "stdout",
     "output_type": "stream",
     "text": [
      "속도를 입력하세요: 35\n",
      "과속입니다. 속도를 줄이세요.\n"
     ]
    }
   ],
   "source": [
    "#도전문제 4.1\n",
    "\n",
    "speed = int(input('속도를 입력하세요: '))\n",
    "if(speed >= 30):\n",
    "    print('과속입니다. 속도를 줄이세요.')"
   ]
  },
  {
   "cell_type": "code",
   "execution_count": 2,
   "id": "9cdabf1a",
   "metadata": {},
   "outputs": [
    {
     "name": "stdout",
     "output_type": "stream",
     "text": [
      "정수를 입력하세요 : 5\n",
      "음수가 아닙니다.\n"
     ]
    }
   ],
   "source": [
    "#도전 4.3 (1)\n",
    "\n",
    "num = int(input('정수를 입력하세요 : '))\n",
    "if num < 0:\n",
    "    print('음수입니다.')\n",
    "else:\n",
    "    print('음수가 아닙니다.')"
   ]
  },
  {
   "cell_type": "code",
   "execution_count": 3,
   "id": "05e7d7b6",
   "metadata": {},
   "outputs": [
    {
     "name": "stdout",
     "output_type": "stream",
     "text": [
      "게임 점수를 입력하세요 : 120000\n",
      "고수입니다.\n"
     ]
    }
   ],
   "source": [
    "#도전 4.3 (2)\n",
    "\n",
    "game_score = int(input('게임 점수를 입력하세요 : '))\n",
    "if game_score >= 10000:\n",
    "    print('고수입니다.')"
   ]
  },
  {
   "cell_type": "code",
   "execution_count": 4,
   "id": "73ae5847",
   "metadata": {},
   "outputs": [
    {
     "name": "stdout",
     "output_type": "stream",
     "text": [
      "나이를 입력하시오 : 19\n",
      "본 영화를 보실 수 있습니다.\n"
     ]
    }
   ],
   "source": [
    "#LAB 4-2\n",
    "\n",
    "age = int(input('나이를 입력하시오 : '))\n",
    "\n",
    "if(age > 18):\n",
    "    print('본 영화를 보실 수 있습니다.')\n",
    "else:\n",
    "    print('본 영화를 보실 수 없습니다.')"
   ]
  },
  {
   "cell_type": "code",
   "execution_count": 5,
   "id": "62ca3950",
   "metadata": {},
   "outputs": [
    {
     "name": "stdout",
     "output_type": "stream",
     "text": [
      "나이를 입력하시오 : 16\n",
      "본 영화를 보실 수 있습니다.\n",
      "영화의 가격은 10000원입니다.\n"
     ]
    }
   ],
   "source": [
    "#도전문제 4.6 (1)\n",
    "\n",
    "age = int(input('나이를 입력하시오 : '))\n",
    "\n",
    "if(age > 14):\n",
    "    print('본 영화를 보실 수 있습니다.')\n",
    "    print('영화의 가격은 10000원입니다.')\n",
    "else:\n",
    "    print('본 영화를 보실 수 없습니다.')\n",
    "    print('다른 영화를 보시겠어요?')"
   ]
  },
  {
   "cell_type": "code",
   "execution_count": 6,
   "id": "def0a4fc",
   "metadata": {},
   "outputs": [
    {
     "name": "stdout",
     "output_type": "stream",
     "text": [
      "카드 종류를 입력하세요 : 청소년\n",
      "청소년입니다.\n"
     ]
    }
   ],
   "source": [
    "#도전문제 4.6 (2)\n",
    "\n",
    "card = str(input('카드 종류를 입력하세요 : '))\n",
    "\n",
    "if(card == '청소년'):\n",
    "    print('청소년입니다.')\n",
    "elif(card == '성인'):\n",
    "    print('승인되었습니다.')"
   ]
  },
  {
   "cell_type": "code",
   "execution_count": 15,
   "id": "5c362e17",
   "metadata": {},
   "outputs": [
    {
     "name": "stdout",
     "output_type": "stream",
     "text": [
      "연도를 입력하시오 : 2012\n",
      "2012 년은 윤년입니다.\n"
     ]
    }
   ],
   "source": [
    "#LAB 4-4\n",
    "\n",
    "year = int(input('연도를 입력하시오 : '))\n",
    "if ((year % 4 == 0) & (year % 100 != 0) | (year % 400 == 0)):\n",
    "    print(year, '년은 윤년입니다.')\n",
    "else:\n",
    "    print(year, '년은 윤년이 아닙니다.')"
   ]
  },
  {
   "cell_type": "code",
   "execution_count": 16,
   "id": "fc130f16",
   "metadata": {},
   "outputs": [
    {
     "name": "stdout",
     "output_type": "stream",
     "text": [
      "동전 던지기 게임을 시작합니다.\n",
      "앞면입니다.\n",
      "게임이 종료되었습니다.\n"
     ]
    }
   ],
   "source": [
    "#LAB 4-5\n",
    "\n",
    "import random\n",
    "\n",
    "print('동전 던지기 게임을 시작합니다.')\n",
    "coin = random.randrange(2)\n",
    "if coin == 0:\n",
    "    print('앞면입니다.')\n",
    "else:\n",
    "    print('뒤면입니다.')\n",
    "print('게임이 종료되었습니다.')"
   ]
  },
  {
   "cell_type": "code",
   "execution_count": 22,
   "id": "04d658ac",
   "metadata": {},
   "outputs": [
    {
     "name": "stdout",
     "output_type": "stream",
     "text": [
      "Player1의 이름 : 홍길동\n",
      "Player2의 이름 : 홍길순\n",
      "......주사위를 굴립니다......\n",
      "홍길동의 주사위 번호는 1\n",
      "홍길순의 주사위 번호는 3\n",
      "홍길순이 이겼습니다.\n"
     ]
    }
   ],
   "source": [
    "#도전문제 4.9\n",
    "\n",
    "import random\n",
    "\n",
    "P1 = str(input('Player1의 이름 : '))\n",
    "P2 = str(input('Player2의 이름 : '))\n",
    "print('......주사위를 굴립니다......')\n",
    "\n",
    "P1_num = random.randint(1,6)\n",
    "P2_num = random.randint(1,6)\n",
    "\n",
    "print(P1+'의 주사위 번호는 '+str(P1_num))\n",
    "print(P2+'의 주사위 번호는 '+str(P2_num))\n",
    "\n",
    "if P1_num == P2_num:\n",
    "    print('비겼습니다.')\n",
    "else:\n",
    "    if(P1_num > P2_num):\n",
    "        print(P1+'이 이겼습니다.')\n",
    "    else:\n",
    "        print(P2+'이 이겼습니다.')"
   ]
  },
  {
   "cell_type": "code",
   "execution_count": null,
   "id": "7a3a99fe",
   "metadata": {},
   "outputs": [],
   "source": []
  }
 ],
 "metadata": {
  "kernelspec": {
   "display_name": "Python 3",
   "language": "python",
   "name": "python3"
  },
  "language_info": {
   "codemirror_mode": {
    "name": "ipython",
    "version": 3
   },
   "file_extension": ".py",
   "mimetype": "text/x-python",
   "name": "python",
   "nbconvert_exporter": "python",
   "pygments_lexer": "ipython3",
   "version": "3.8.8"
  }
 },
 "nbformat": 4,
 "nbformat_minor": 5
}
